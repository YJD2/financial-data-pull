{
 "cells": [
  {
   "cell_type": "code",
   "execution_count": 2,
   "id": "d253df07-92a1-4b62-8c79-e21ee569435a",
   "metadata": {},
   "outputs": [],
   "source": [
    "import pandas as pd \n",
    "import yfinance as yf"
   ]
  },
  {
   "cell_type": "code",
   "execution_count": 3,
   "id": "41d5bb6e-4f06-42e9-82f4-60e0a008847e",
   "metadata": {},
   "outputs": [
    {
     "name": "stderr",
     "output_type": "stream",
     "text": [
      "[*********************100%***********************]  1 of 1 completed"
     ]
    },
    {
     "name": "stdout",
     "output_type": "stream",
     "text": [
      "Price                        Adj Close        Close         High          Low  \\\n",
      "Ticker                            ^SPX         ^SPX         ^SPX         ^SPX   \n",
      "Date                                                                            \n",
      "2000-01-03 00:00:00+00:00  1455.219971  1455.219971  1478.000000  1438.359985   \n",
      "2000-01-04 00:00:00+00:00  1399.420044  1399.420044  1455.219971  1397.430054   \n",
      "2000-01-05 00:00:00+00:00  1402.109985  1402.109985  1413.270020  1377.680054   \n",
      "2000-01-06 00:00:00+00:00  1403.449951  1403.449951  1411.900024  1392.099976   \n",
      "2000-01-07 00:00:00+00:00  1441.469971  1441.469971  1441.469971  1400.729980   \n",
      "\n",
      "Price                             Open      Volume  \n",
      "Ticker                            ^SPX        ^SPX  \n",
      "Date                                                \n",
      "2000-01-03 00:00:00+00:00  1469.250000   931800000  \n",
      "2000-01-04 00:00:00+00:00  1455.219971  1009000000  \n",
      "2000-01-05 00:00:00+00:00  1399.420044  1085500000  \n",
      "2000-01-06 00:00:00+00:00  1402.109985  1092300000  \n",
      "2000-01-07 00:00:00+00:00  1403.449951  1225200000  \n"
     ]
    },
    {
     "name": "stderr",
     "output_type": "stream",
     "text": [
      "\n"
     ]
    }
   ],
   "source": [
    "data = yf.download(\"^SPX\",\n",
    "                   start=\"2000-01-01\", end=\"2025-01-01\")\n",
    "print(data.head())"
   ]
  },
  {
   "cell_type": "code",
   "execution_count": 10,
   "id": "ebbb5555-8566-4060-a75e-86724bc4add1",
   "metadata": {},
   "outputs": [
    {
     "name": "stdout",
     "output_type": "stream",
     "text": [
      "Data sucessfully exported to CSV\n"
     ]
    }
   ],
   "source": [
    "data.to_csv(r'/Users/YJDah/Desktop/Financial Markets & Big Data/SP500.csv')\n",
    "print(\"Data sucessfully exported to CSV\")"
   ]
  },
  {
   "cell_type": "code",
   "execution_count": 11,
   "id": "579622c7-46aa-47bb-9e5e-a129c170f6ac",
   "metadata": {},
   "outputs": [],
   "source": [
    "import numpy as np\n",
    "import pandas as pd\n",
    "import matplotlib.pyplot as plt \n",
    "import seaborn as sns \n",
    "from scipy.stats import skew, kurtosis\n",
    "import yfinance as yf \n"
   ]
  },
  {
   "cell_type": "code",
   "execution_count": 12,
   "id": "4212e4d4-5ba3-41b1-a298-cef3cd5b2083",
   "metadata": {},
   "outputs": [
    {
     "name": "stderr",
     "output_type": "stream",
     "text": [
      "[*********************100%***********************]  1 of 1 completed\n"
     ]
    }
   ],
   "source": [
    "data = yf.download(\"^SPX\",\n",
    "                   start=\"2000-01-01\", end=\"2025-01-01\")"
   ]
  },
  {
   "cell_type": "code",
   "execution_count": 13,
   "id": "26fc177e-1a7d-4ddf-89b1-bb9ee002ce54",
   "metadata": {},
   "outputs": [
    {
     "data": {
      "text/html": [
       "<div>\n",
       "<style scoped>\n",
       "    .dataframe tbody tr th:only-of-type {\n",
       "        vertical-align: middle;\n",
       "    }\n",
       "\n",
       "    .dataframe tbody tr th {\n",
       "        vertical-align: top;\n",
       "    }\n",
       "\n",
       "    .dataframe thead tr th {\n",
       "        text-align: left;\n",
       "    }\n",
       "</style>\n",
       "<table border=\"1\" class=\"dataframe\">\n",
       "  <thead>\n",
       "    <tr>\n",
       "      <th>Price</th>\n",
       "      <th>Adj Close</th>\n",
       "      <th>Close</th>\n",
       "      <th>High</th>\n",
       "      <th>Low</th>\n",
       "      <th>Open</th>\n",
       "      <th>Volume</th>\n",
       "    </tr>\n",
       "    <tr>\n",
       "      <th>Ticker</th>\n",
       "      <th>^SPX</th>\n",
       "      <th>^SPX</th>\n",
       "      <th>^SPX</th>\n",
       "      <th>^SPX</th>\n",
       "      <th>^SPX</th>\n",
       "      <th>^SPX</th>\n",
       "    </tr>\n",
       "  </thead>\n",
       "  <tbody>\n",
       "    <tr>\n",
       "      <th>count</th>\n",
       "      <td>6289.000000</td>\n",
       "      <td>6289.000000</td>\n",
       "      <td>6289.000000</td>\n",
       "      <td>6289.000000</td>\n",
       "      <td>6289.000000</td>\n",
       "      <td>6.289000e+03</td>\n",
       "    </tr>\n",
       "    <tr>\n",
       "      <th>mean</th>\n",
       "      <td>2112.014193</td>\n",
       "      <td>2112.014193</td>\n",
       "      <td>2123.846701</td>\n",
       "      <td>2098.696135</td>\n",
       "      <td>2111.727483</td>\n",
       "      <td>3.351107e+09</td>\n",
       "    </tr>\n",
       "    <tr>\n",
       "      <th>std</th>\n",
       "      <td>1243.313309</td>\n",
       "      <td>1243.313309</td>\n",
       "      <td>1248.723568</td>\n",
       "      <td>1237.150430</td>\n",
       "      <td>1243.102750</td>\n",
       "      <td>1.490823e+09</td>\n",
       "    </tr>\n",
       "    <tr>\n",
       "      <th>min</th>\n",
       "      <td>676.530029</td>\n",
       "      <td>676.530029</td>\n",
       "      <td>695.270020</td>\n",
       "      <td>666.789978</td>\n",
       "      <td>679.280029</td>\n",
       "      <td>3.560700e+08</td>\n",
       "    </tr>\n",
       "    <tr>\n",
       "      <th>25%</th>\n",
       "      <td>1200.819946</td>\n",
       "      <td>1200.819946</td>\n",
       "      <td>1207.609985</td>\n",
       "      <td>1192.640015</td>\n",
       "      <td>1200.750000</td>\n",
       "      <td>2.197010e+09</td>\n",
       "    </tr>\n",
       "    <tr>\n",
       "      <th>50%</th>\n",
       "      <td>1491.560059</td>\n",
       "      <td>1491.560059</td>\n",
       "      <td>1499.099976</td>\n",
       "      <td>1480.280029</td>\n",
       "      <td>1491.469971</td>\n",
       "      <td>3.482580e+09</td>\n",
       "    </tr>\n",
       "    <tr>\n",
       "      <th>75%</th>\n",
       "      <td>2748.929932</td>\n",
       "      <td>2748.929932</td>\n",
       "      <td>2764.409912</td>\n",
       "      <td>2736.060059</td>\n",
       "      <td>2752.909912</td>\n",
       "      <td>4.158800e+09</td>\n",
       "    </tr>\n",
       "    <tr>\n",
       "      <th>max</th>\n",
       "      <td>6090.270020</td>\n",
       "      <td>6090.270020</td>\n",
       "      <td>6099.970215</td>\n",
       "      <td>6079.979980</td>\n",
       "      <td>6089.029785</td>\n",
       "      <td>1.145623e+10</td>\n",
       "    </tr>\n",
       "  </tbody>\n",
       "</table>\n",
       "</div>"
      ],
      "text/plain": [
       "Price     Adj Close        Close         High          Low         Open  \\\n",
       "Ticker         ^SPX         ^SPX         ^SPX         ^SPX         ^SPX   \n",
       "count   6289.000000  6289.000000  6289.000000  6289.000000  6289.000000   \n",
       "mean    2112.014193  2112.014193  2123.846701  2098.696135  2111.727483   \n",
       "std     1243.313309  1243.313309  1248.723568  1237.150430  1243.102750   \n",
       "min      676.530029   676.530029   695.270020   666.789978   679.280029   \n",
       "25%     1200.819946  1200.819946  1207.609985  1192.640015  1200.750000   \n",
       "50%     1491.560059  1491.560059  1499.099976  1480.280029  1491.469971   \n",
       "75%     2748.929932  2748.929932  2764.409912  2736.060059  2752.909912   \n",
       "max     6090.270020  6090.270020  6099.970215  6079.979980  6089.029785   \n",
       "\n",
       "Price         Volume  \n",
       "Ticker          ^SPX  \n",
       "count   6.289000e+03  \n",
       "mean    3.351107e+09  \n",
       "std     1.490823e+09  \n",
       "min     3.560700e+08  \n",
       "25%     2.197010e+09  \n",
       "50%     3.482580e+09  \n",
       "75%     4.158800e+09  \n",
       "max     1.145623e+10  "
      ]
     },
     "execution_count": 13,
     "metadata": {},
     "output_type": "execute_result"
    }
   ],
   "source": [
    "data.describe()"
   ]
  },
  {
   "cell_type": "code",
   "execution_count": 14,
   "id": "6204627b-a27d-48db-826d-318ca266127b",
   "metadata": {},
   "outputs": [],
   "source": [
    "# Caculate daily returns \n",
    "data['Daily Return'] = data['Adj Close'].pct_change().dropna()"
   ]
  },
  {
   "cell_type": "code",
   "execution_count": 15,
   "id": "e8f9c42c-646a-4285-87fe-5ccb5782874e",
   "metadata": {},
   "outputs": [],
   "source": [
    "# Compute skewness and kurtosis\n",
    "skewness = skew(data['Daily Return'].dropna())\n",
    "excess_kurtosis = kurtosis(data['Daily Return'].dropna()) #excess kurtsis "
   ]
  },
  {
   "cell_type": "code",
   "execution_count": 21,
   "id": "847ce7cd-072f-474b-a4f3-87cb9e22ecd8",
   "metadata": {},
   "outputs": [
    {
     "data": {
      "image/png": "[encoded data removed]",
      "text/plain": [
       "<Figure size 1000x600 with 1 Axes>"
      ]
     },
     "metadata": {},
     "output_type": "display_data"
    }
   ],
   "source": [
    "#plot histogram and KDE\n",
    "plt.figure(figsize=(10, 6))\n",
    "sns.histplot(data['Daily Return'].dropna(), bins=50, kde=True, color='blue', stat='density')\n",
    "plt.title(f\"S&P Dily Returns Distribution\\nsKewness: {skewness:.2f}, Excess Kurtosis: {excess_kurtosis:.2f}\")\n",
    "plt.xlabel(\"Daily Return\")\n",
    "plt.ylabel(\"Density\")\n",
    "plt.grid(True)\n",
    "plt.show()"
   ]
  },
  {
   "cell_type": "code",
   "execution_count": null,
   "id": "eb4b4430-c3fe-488d-b79d-e2cccc61871a",
   "metadata": {},
   "outputs": [],
   "source": []
  }
 ],
 "metadata": {
  "kernelspec": {
   "display_name": "Python 3 (ipykernel)",
   "language": "python",
   "name": "python3"
  },
  "language_info": {
   "codemirror_mode": {
    "name": "ipython",
    "version": 3
   },
   "file_extension": ".py",
   "mimetype": "text/x-python",
   "name": "python",
   "nbconvert_exporter": "python",
   "pygments_lexer": "ipython3",
   "version": "3.12.4"
  }
 },
 "nbformat": 4,
 "nbformat_minor": 5
}
